{
 "cells": [
  {
   "cell_type": "code",
   "execution_count": 3,
   "metadata": {},
   "outputs": [],
   "source": [
    "import numpy as np\n",
    "from math import*"
   ]
  },
  {
   "cell_type": "code",
   "execution_count": 4,
   "metadata": {},
   "outputs": [
    {
     "name": "stdout",
     "output_type": "stream",
     "text": [
      "Vel. Media: 6.066666666666666\n",
      "[ 2  6 12  9 11  4  3  5  2  6]\n"
     ]
    }
   ],
   "source": [
    "# Media\n",
    "\n",
    "a=np.array([2, 6, 12, 9, 11, 4, 3, 5, 2, 6])\n",
    "n=len(a)\n",
    "\n",
    "vel=np.array([2, 3, 4, 5, 6, 7, 8, 9, 10, 11])\n",
    "g=a*vel\n",
    "b=sum(g)\n",
    "e=len(g)\n",
    "l=sum(a)\n",
    "media=b/l\n",
    "print(\"Vel. Media:\",media)\n",
    "\n",
    "print (a)\n"
   ]
  },
  {
   "cell_type": "code",
   "execution_count": 6,
   "metadata": {},
   "outputs": [
    {
     "name": "stdout",
     "output_type": "stream",
     "text": [
      "Varianza: 6.537853107344633\n"
     ]
    }
   ],
   "source": [
    "# Varianza\n",
    "\n",
    "k=(vel-media)\n",
    "y=k**2\n",
    "j=a*y\n",
    "var=sum(j)/(l-1)\n",
    "print(\"Varianza:\",var)"
   ]
  },
  {
   "cell_type": "code",
   "execution_count": 9,
   "metadata": {},
   "outputs": [
    {
     "name": "stdout",
     "output_type": "stream",
     "text": [
      "Desviación Estandar: 2.5569225853249122\n"
     ]
    }
   ],
   "source": [
    "# Desviación Estandar\n",
    "\n",
    "sigma=sqrt(var)\n",
    "print(\"Desviación Estandar:\", sigma)\n"
   ]
  },
  {
   "cell_type": "code",
   "execution_count": 10,
   "metadata": {},
   "outputs": [
    {
     "name": "stdout",
     "output_type": "stream",
     "text": [
      "Skew: 0.5671301632918211\n"
     ]
    }
   ],
   "source": [
    "#Skew\n",
    "\n",
    "s=(vel-media)/sigma\n",
    "ss=s*s*s\n",
    "m= a*ss\n",
    "Sk= sum(m)/ l\n",
    "print(\"Skew:\", Sk)\n"
   ]
  },
  {
   "cell_type": "code",
   "execution_count": 12,
   "metadata": {},
   "outputs": [
    {
     "name": "stdout",
     "output_type": "stream",
     "text": [
      "Kurtosis -0.7555963753806649\n"
     ]
    }
   ],
   "source": [
    "#Kurtosis\n",
    "\n",
    "k=(vel-media)/sigma\n",
    "t=k*k*k*k\n",
    "w=a*t\n",
    "kurt=(sum(w) / l) - 3\n",
    "print(\"Kurtosis\",kurt)"
   ]
  },
  {
   "cell_type": "code",
   "execution_count": null,
   "metadata": {},
   "outputs": [],
   "source": []
  }
 ],
 "metadata": {
  "kernelspec": {
   "display_name": "Python 3",
   "language": "python",
   "name": "python3"
  },
  "language_info": {
   "codemirror_mode": {
    "name": "ipython",
    "version": 3
   },
   "file_extension": ".py",
   "mimetype": "text/x-python",
   "name": "python",
   "nbconvert_exporter": "python",
   "pygments_lexer": "ipython3",
   "version": "3.5.2"
  }
 },
 "nbformat": 4,
 "nbformat_minor": 2
}
